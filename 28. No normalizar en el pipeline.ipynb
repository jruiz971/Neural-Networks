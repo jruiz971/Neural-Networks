{
 "cells": [
  {
   "cell_type": "markdown",
   "metadata": {},
   "source": [
    "# Rant: Normalización en el pipeline"
   ]
  },
  {
   "cell_type": "markdown",
   "metadata": {},
   "source": [
    "## Nunca normalizar los datos como parte del pipeline de procesamiento.\n",
    "- DEBE HACERSE COMO PARTE DEL MODELO"
   ]
  },
  {
   "cell_type": "code",
   "execution_count": 1,
   "metadata": {},
   "outputs": [],
   "source": [
    "import torch\n",
    "import torch.nn as nn\n",
    "import fastai.vision.all as fv"
   ]
  },
  {
   "cell_type": "code",
   "execution_count": 2,
   "metadata": {},
   "outputs": [],
   "source": [
    "def load_data(folder, img_size,batch_size):\n",
    "    tmfs = fv.aug_transforms(flip_vert=False,\n",
    "                            max_rotate=10,\n",
    "                            max_lighting=0.25,\n",
    "                            max_zoom=1.2,\n",
    "                            max_warp=0.2)\n",
    "    data = fv.DataBlock(blocks  = (fv.ImageBlock, fv.CategoryBlock),\n",
    "                        get_items = fv.get_image_files,\n",
    "                        get_y     = fv.parent_label, #Como a partir de la imagen encpontarr la categoria\n",
    "                        splitter  = fv.GrandparentSplitter(), #si el abyelo es train o test\n",
    "                        item_tfms = fv.Resize(img_size),#transformcaiones antes de juntar en batch y despues de juntar en batch)\n",
    "                        batch_tfms = tmfs)\n",
    "    return data.dataloaders(folder, bs=batch_size)#Agarra las imagenes y las regresa en batches"
   ]
  },
  {
   "cell_type": "code",
   "execution_count": 3,
   "metadata": {},
   "outputs": [],
   "source": [
    "birds = load_data(\"/storage/birds\", img_size=128, batch_size=64)"
   ]
  },
  {
   "cell_type": "code",
   "execution_count": null,
   "metadata": {},
   "outputs": [],
   "source": [
    "learn = fv.cnn_learner(birds, fv.resnet18) # ¡GRAN ERROR MASIVO!"
   ]
  },
  {
   "cell_type": "markdown",
   "metadata": {},
   "source": [
    "Así se modifican los datos. NO se pueden recuperar, se deben volver a llamar en load_data"
   ]
  },
  {
   "cell_type": "markdown",
   "metadata": {},
   "source": [
    "Para evitar ese error:"
   ]
  },
  {
   "cell_type": "code",
   "execution_count": null,
   "metadata": {},
   "outputs": [],
   "source": [
    "learn = fv.cnn_learner(birds, fv.resnet18, normalize=False )"
   ]
  },
  {
   "cell_type": "markdown",
   "metadata": {},
   "source": [
    "BatchNorm se encaraga de normalizar los datos, si usamos na buena cantidad de BatchNorm"
   ]
  },
  {
   "cell_type": "markdown",
   "metadata": {},
   "source": [
    "Normalizar debe ser parte del modelo (Agregar capa que normalice): Así no nos debemos volver a mmolestar por normalizar"
   ]
  },
  {
   "cell_type": "code",
   "execution_count": null,
   "metadata": {},
   "outputs": [],
   "source": [
    "class Normalizer(nn.Module):\n",
    "    def __init__(self, mean = [0.485, 0.456, 0.406], std = [0.229, 0.224, 0.225]): #De las imágenes de imagenet\n",
    "        super().__init__()\n",
    "        self.mean = torch.tensor(mean)[None,:,None,None] #Los pasamos a tensores\n",
    "        self.std  = torch.tensor(std)[None,:,None,None]  #Ponemos las mismas dimensiones para poder broadcastear\n",
    "        \n",
    "    def forward(self, x):\n",
    "        m = self.mean.to(x) \n",
    "        s = self.std.to(x)\n",
    "        return (x - m)/s  #Regresa normalizado"
   ]
  },
  {
   "cell_type": "code",
   "execution_count": null,
   "metadata": {},
   "outputs": [],
   "source": [
    "fv.imagenet_stats"
   ]
  },
  {
   "cell_type": "markdown",
   "metadata": {},
   "source": [
    "### Para crear el modelo NORMALIZADO"
   ]
  },
  {
   "cell_type": "code",
   "execution_count": null,
   "metadata": {},
   "outputs": [],
   "source": [
    "learn = fv.cnn_learner(birds, fv.resnet18, normalize=False)\n",
    "learn.model = nn.sequential(Normalizer(), learn.model)"
   ]
  },
  {
   "cell_type": "markdown",
   "metadata": {},
   "source": [
    "El modelo normaliza solo"
   ]
  }
 ],
 "metadata": {
  "kernelspec": {
   "display_name": "Python 3",
   "language": "python",
   "name": "python3"
  },
  "language_info": {
   "codemirror_mode": {
    "name": "ipython",
    "version": 3
   },
   "file_extension": ".py",
   "mimetype": "text/x-python",
   "name": "python",
   "nbconvert_exporter": "python",
   "pygments_lexer": "ipython3",
   "version": "3.6.8"
  }
 },
 "nbformat": 4,
 "nbformat_minor": 4
}
