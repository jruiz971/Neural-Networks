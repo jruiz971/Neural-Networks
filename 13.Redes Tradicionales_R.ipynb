{
 "cells": [
  {
   "cell_type": "markdown",
   "metadata": {},
   "source": [
    "# 13 Código para Redes Neuronales FC"
   ]
  },
  {
   "cell_type": "code",
   "execution_count": 1,
   "metadata": {},
   "outputs": [],
   "source": [
    "import torch \n",
    "import torch.nn as nn"
   ]
  },
  {
   "cell_type": "markdown",
   "metadata": {},
   "source": [
    "## Vector de entrada\n",
    "\n",
    "Pensemos que R es un vector en R5 y queremos contruir una red neuronal pequeñísima que termine con un vector en R3.\n",
    "En PyTorch todo funciona en batches, supongamos que son de tamaño 4 (4 datos diferentes)"
   ]
  },
  {
   "cell_type": "code",
   "execution_count": 3,
   "metadata": {},
   "outputs": [],
   "source": [
    "bs = 4\n",
    "n  = 5\n",
    "\n",
    "x = torch.rand( bs,n ) #Esto se debe obetner de los datos"
   ]
  },
  {
   "cell_type": "markdown",
   "metadata": {},
   "source": [
    "$x$ son los datos"
   ]
  },
  {
   "cell_type": "markdown",
   "metadata": {},
   "source": [
    "## Creado la red\n",
    "\n",
    "nn es la parte de Pytorch para hacer redes neuronales"
   ]
  },
  {
   "cell_type": "code",
   "execution_count": 7,
   "metadata": {},
   "outputs": [],
   "source": [
    "red_neuronal = nn.Sequential( #Espera que le pases una serie de módulos (redm neuronal, funcion con parámetros)\n",
    "    nn.Linear( 5,10 ), #Transformacion afin de R5,en Rx. La inicializa con parámetro aleatorios\n",
    "    nn.ReLU(),         #0 en los negativos, I en los positivos\n",
    "    nn.Linear( 10,8 ), #Rx en Ry\n",
    "    nn.LeakyReLU( negative_slope = 0.1 ), #Se puede tomar cualquier otra activacion\n",
    "    nn.Linear( 8,3 )   #Regresamos a R3\n",
    "\n",
    ")"
   ]
  },
  {
   "cell_type": "markdown",
   "metadata": {},
   "source": [
    "## Usando la red neuronal"
   ]
  },
  {
   "cell_type": "code",
   "execution_count": 8,
   "metadata": {},
   "outputs": [
    {
     "data": {
      "text/plain": [
       "tensor([[-0.0076, -0.2148,  0.0017],\n",
       "        [-0.0038, -0.2098, -0.0584],\n",
       "        [-0.0329, -0.1512,  0.0338],\n",
       "        [-0.0440, -0.1927,  0.0825]], grad_fn=<AddmmBackward>)"
      ]
     },
     "execution_count": 8,
     "metadata": {},
     "output_type": "execute_result"
    }
   ],
   "source": [
    "red_neuronal( x )"
   ]
  },
  {
   "cell_type": "markdown",
   "metadata": {},
   "source": [
    "Regresa un tensor de tamaño batches, Rn ( 4,3 )"
   ]
  },
  {
   "cell_type": "markdown",
   "metadata": {},
   "source": [
    "## Examinando la red neuronal"
   ]
  },
  {
   "cell_type": "code",
   "execution_count": 9,
   "metadata": {},
   "outputs": [
    {
     "data": {
      "text/plain": [
       "Sequential(\n",
       "  (0): Linear(in_features=5, out_features=10, bias=True)\n",
       "  (1): ReLU()\n",
       "  (2): Linear(in_features=10, out_features=8, bias=True)\n",
       "  (3): LeakyReLU(negative_slope=0.1)\n",
       "  (4): Linear(in_features=8, out_features=3, bias=True)\n",
       ")"
      ]
     },
     "execution_count": 9,
     "metadata": {},
     "output_type": "execute_result"
    }
   ],
   "source": [
    "red_neuronal #La descrpcion de la red"
   ]
  },
  {
   "cell_type": "code",
   "execution_count": 10,
   "metadata": {},
   "outputs": [],
   "source": [
    "a = red_neuronal[0]"
   ]
  },
  {
   "cell_type": "code",
   "execution_count": 11,
   "metadata": {},
   "outputs": [
    {
     "data": {
      "text/plain": [
       "[Parameter containing:\n",
       " tensor([[-2.5622e-01,  4.0445e-01, -4.4465e-01,  2.5547e-01,  4.4100e-01],\n",
       "         [-1.2133e-01, -4.2909e-01, -6.3142e-02, -3.7486e-01,  2.4321e-01],\n",
       "         [ 1.3691e-01,  1.0272e-01, -3.8586e-01, -2.7694e-01, -3.0924e-01],\n",
       "         [ 1.2613e-01,  2.7873e-01,  9.3108e-02, -2.5558e-04, -4.7704e-02],\n",
       "         [-1.8774e-01,  6.7436e-02, -3.5561e-01, -1.0204e-01, -1.2345e-01],\n",
       "         [ 2.8585e-01,  3.2892e-01, -4.1520e-01, -5.5921e-02,  2.1976e-02],\n",
       "         [ 1.8414e-01, -3.6183e-01,  3.7364e-01,  2.4996e-01,  3.9545e-01],\n",
       "         [-4.0820e-02, -3.2415e-01, -4.1490e-01, -2.6549e-01,  1.8770e-01],\n",
       "         [ 7.0710e-02, -1.8556e-01, -1.5485e-02,  1.0934e-01, -2.4954e-01],\n",
       "         [ 2.6336e-05, -9.4583e-02,  4.4218e-01,  2.8035e-01,  4.2404e-01]],\n",
       "        requires_grad=True), Parameter containing:\n",
       " tensor([-0.2046, -0.3723,  0.3411, -0.0852,  0.3233,  0.2874, -0.1117,  0.0284,\n",
       "         -0.0217, -0.2585], requires_grad=True)]"
      ]
     },
     "execution_count": 11,
     "metadata": {},
     "output_type": "execute_result"
    }
   ],
   "source": [
    "list( a.parameters() )"
   ]
  },
  {
   "cell_type": "markdown",
   "metadata": {},
   "source": [
    "La matriz por la que multiplica y lo que le suma"
   ]
  },
  {
   "cell_type": "code",
   "execution_count": 12,
   "metadata": {},
   "outputs": [
    {
     "data": {
      "text/plain": [
       "torch.Size([10, 5])"
      ]
     },
     "execution_count": 12,
     "metadata": {},
     "output_type": "execute_result"
    }
   ],
   "source": [
    "list( a.parameters() )[0].shape"
   ]
  },
  {
   "cell_type": "markdown",
   "metadata": {},
   "source": [
    "Matriz"
   ]
  },
  {
   "cell_type": "markdown",
   "metadata": {},
   "source": [
    "Y es la matriz del primer parámtro de nuestra red\n",
    "- nn.Linear( 5,10 ), \n",
    "- Transformacion afin de R5,en Rx. La inicializa con parámetro aleatorios"
   ]
  },
  {
   "cell_type": "markdown",
   "metadata": {},
   "source": [
    "#### Si queremos pasar a la red neuronal un dato lo debemos hacer poniendo un paréntesis después"
   ]
  },
  {
   "cell_type": "code",
   "execution_count": 23,
   "metadata": {},
   "outputs": [
    {
     "data": {
      "text/plain": [
       "tensor([[ 0.8260,  0.1246,  0.8131,  0.9116,  1.3249,  1.1975, -0.8852, -0.2763],\n",
       "        [-0.4945,  0.0394,  0.9922,  0.7248, -0.9099,  1.1182, -0.3723, -1.4939],\n",
       "        [ 1.0211, -0.5714,  0.4285, -0.6562,  1.9617, -1.3021, -0.1851,  0.4860],\n",
       "        [-1.2957, -0.7853, -0.6806, -0.6593, -0.4933, -2.4669,  1.2801, -0.1489],\n",
       "        [ 0.8636,  0.3587, -0.5643, -0.5384,  0.2180, -0.1899, -0.5483, -2.2484],\n",
       "        [-1.2894, -0.6784,  0.9807,  0.1151, -1.2946,  0.1959,  1.1990,  0.0604],\n",
       "        [ 1.2993,  1.7543,  0.3809,  0.5926,  0.0040, -0.2063,  1.1863,  0.5967],\n",
       "        [ 0.2502, -0.3419, -0.2896, -0.1700,  1.4826, -0.8314, -0.6380, -0.1996]])"
      ]
     },
     "execution_count": 23,
     "metadata": {},
     "output_type": "execute_result"
    }
   ],
   "source": [
    "x = torch.randn( 8,8 )\n",
    "x"
   ]
  },
  {
   "cell_type": "code",
   "execution_count": 24,
   "metadata": {},
   "outputs": [],
   "source": [
    "activacion = nn.ReLU()"
   ]
  },
  {
   "cell_type": "code",
   "execution_count": 25,
   "metadata": {},
   "outputs": [
    {
     "data": {
      "text/plain": [
       "tensor([[0.8260, 0.1246, 0.8131, 0.9116, 1.3249, 1.1975, 0.0000, 0.0000],\n",
       "        [0.0000, 0.0394, 0.9922, 0.7248, 0.0000, 1.1182, 0.0000, 0.0000],\n",
       "        [1.0211, 0.0000, 0.4285, 0.0000, 1.9617, 0.0000, 0.0000, 0.4860],\n",
       "        [0.0000, 0.0000, 0.0000, 0.0000, 0.0000, 0.0000, 1.2801, 0.0000],\n",
       "        [0.8636, 0.3587, 0.0000, 0.0000, 0.2180, 0.0000, 0.0000, 0.0000],\n",
       "        [0.0000, 0.0000, 0.9807, 0.1151, 0.0000, 0.1959, 1.1990, 0.0604],\n",
       "        [1.2993, 1.7543, 0.3809, 0.5926, 0.0040, 0.0000, 1.1863, 0.5967],\n",
       "        [0.2502, 0.0000, 0.0000, 0.0000, 1.4826, 0.0000, 0.0000, 0.0000]])"
      ]
     },
     "execution_count": 25,
     "metadata": {},
     "output_type": "execute_result"
    }
   ],
   "source": [
    "activacion(x)"
   ]
  },
  {
   "cell_type": "markdown",
   "metadata": {},
   "source": [
    "Los negativos los pone en 0"
   ]
  },
  {
   "cell_type": "code",
   "execution_count": 26,
   "metadata": {},
   "outputs": [
    {
     "data": {
      "text/plain": [
       "tensor([[0.8260, 0.1246, 0.8131, 0.9116, 1.3249, 1.1975, 0.0000, 0.0000],\n",
       "        [0.0000, 0.0394, 0.9922, 0.7248, 0.0000, 1.1182, 0.0000, 0.0000],\n",
       "        [1.0211, 0.0000, 0.4285, 0.0000, 1.9617, 0.0000, 0.0000, 0.4860],\n",
       "        [0.0000, 0.0000, 0.0000, 0.0000, 0.0000, 0.0000, 1.2801, 0.0000],\n",
       "        [0.8636, 0.3587, 0.0000, 0.0000, 0.2180, 0.0000, 0.0000, 0.0000],\n",
       "        [0.0000, 0.0000, 0.9807, 0.1151, 0.0000, 0.1959, 1.1990, 0.0604],\n",
       "        [1.2993, 1.7543, 0.3809, 0.5926, 0.0040, 0.0000, 1.1863, 0.5967],\n",
       "        [0.2502, 0.0000, 0.0000, 0.0000, 1.4826, 0.0000, 0.0000, 0.0000]])"
      ]
     },
     "execution_count": 26,
     "metadata": {},
     "output_type": "execute_result"
    }
   ],
   "source": [
    "nn.ReLU()(x)"
   ]
  }
 ],
 "metadata": {
  "kernelspec": {
   "display_name": "Python 3",
   "language": "python",
   "name": "python3"
  },
  "language_info": {
   "codemirror_mode": {
    "name": "ipython",
    "version": 3
   },
   "file_extension": ".py",
   "mimetype": "text/x-python",
   "name": "python",
   "nbconvert_exporter": "python",
   "pygments_lexer": "ipython3",
   "version": "3.6.8"
  }
 },
 "nbformat": 4,
 "nbformat_minor": 4
}
