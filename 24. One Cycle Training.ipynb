{
 "cells": [
  {
   "cell_type": "code",
   "execution_count": 3,
   "metadata": {},
   "outputs": [],
   "source": [
    "import torch\n",
    "import torch.nn as nn\n",
    "import fastai.vision.all as fv"
   ]
  },
  {
   "cell_type": "markdown",
   "metadata": {},
   "source": [
    "¿Qué hace fit_one_cycle?"
   ]
  },
  {
   "cell_type": "markdown",
   "metadata": {},
   "source": [
    "div -> ¿Por cuánto debes dividir la learning rate al inicio?\n",
    "final_div -> ¿Por cuánto debes dividir la learning rate al final?\n",
    "pct_start -> ¿Cuáto calentamiento hace?"
   ]
  },
  {
   "cell_type": "code",
   "execution_count": 8,
   "metadata": {},
   "outputs": [],
   "source": [
    "def load_data(folder, img_size,batch_size):\n",
    "    tmfs = fv.aug_transforms(flip_vert=False,\n",
    "                            max_rotate=10,\n",
    "                            max_lighting=0.25,\n",
    "                            max_zoom=1.2,\n",
    "                            max_warp=0.2)\n",
    "    data = fv.DataBlock(blocks  = (fv.ImageBlock, fv.CategoryBlock),\n",
    "                        get_items = fv.get_image_files,\n",
    "                        get_y     = fv.parent_label, #Como a partir de la imagen encpontarr la categoria\n",
    "                        splitter  = fv.GrandparentSplitter(), #si el abyelo es train o test\n",
    "                        item_tfms = fv.Resize(img_size),#transformcaiones antes de juntar en batch y despues de juntar en batch)\n",
    "                        batch_tfms = tmfs)\n",
    "    return data.dataloaders(folder, bs=batch_size)#Agarra las imagenes y las regresa en batches\n",
    "\n",
    "birds = load_data(\"/storage/birds\", img_size=128, batch_size=64)"
   ]
  },
  {
   "cell_type": "code",
   "execution_count": 5,
   "metadata": {},
   "outputs": [],
   "source": [
    "##Flatten es una capa que ayuda a pasar de la parte convolucional a la parte lineal\n",
    "\n",
    "#Lo que hace la clase es que le pasamos algo y nos regresa eso mismo pero sin los 1\n",
    "class Flatten(nn.Module):   #Creamos un módulo que hereda de nn.Module\n",
    "    def __init__(self):    #Para crear un objeto\n",
    "        super().__init__() #Le decimos a nn.Module que se inicie\n",
    "    \n",
    "    def forward( self, x ): #\n",
    "        #return x.squeeze()\n",
    "        return x.reshape (x.shape[0],-1) #Toma la primera y adivina el resto\n",
    "        #Se agrega esta porque si el batch es de tam 1, squezze lo elimina\n",
    "        "
   ]
  },
  {
   "cell_type": "code",
   "execution_count": 9,
   "metadata": {},
   "outputs": [],
   "source": [
    "lx97  = nn.Sequential( #Sequential para cosas sencillas\n",
    "    nn.BatchNorm2d( 3 ), #Ideal comenzar normalizando \n",
    "    #Convolucion de entrada 3, de 32 filtros, de tamaño 3x3, \n",
    "    #sride -> ¿cuánto brinca?, padding -> pone el brde negro para no perder pixeles\n",
    "    nn.Conv2d( 3, 32, kernel_size = 3, stride = 2, padding = 1),\n",
    "    \n",
    "    #Acivacion\n",
    "    nn.ReLU(),\n",
    "    ##ResBlock( crear_residual( 16 ) ),\n",
    "    #Reducir el tamaño de a  imagen (será más rápido)\n",
    "    #Cada cuadro de 2x2 agarra el más grande.\n",
    "    #Reduce a la mitad\n",
    "    #nn.MaxPool2d(2),\n",
    "    #nn.Conv2d( 16, 32, kernel_size=2 ),\n",
    "    #nn.ReLU(),\n",
    "    nn.BatchNorm2d( 32 ),\n",
    "    nn.Conv2d( 32, 32, kernel_size=2, stride = 1, padding = 1 ),\n",
    "    nn.ReLU(),\n",
    "    nn.BatchNorm2d( 32 ),\n",
    "    \n",
    "    #Empezamos en la cantidad de filtros con los que acabamos en Conv2d anterior\n",
    "    nn.Conv2d( 32, 64, kernel_size = 2, stride = 1, padding = 1),\n",
    "    \n",
    "    nn.ReLU(),\n",
    "    nn.MaxPool2d(2),\n",
    "    nn.Conv2d( 64, 128, kernel_size = 3, stride = 1, padding = 1),\n",
    "    nn.ReLU(),\n",
    "    nn.BatchNorm2d( 128 ),\n",
    "    nn.MaxPool2d(2),\n",
    "    nn.Conv2d( 128, 256, kernel_size = 3, stride = 1, padding = 1),\n",
    "    nn.BatchNorm2d( 256 ),\n",
    "    nn.ReLU(),\n",
    "    nn.Conv2d( 256, 256, kernel_size = 3, stride = 1, padding = 1),\n",
    "    nn.BatchNorm2d( 256 ),\n",
    "    nn.ReLU(),\n",
    "    nn.MaxPool2d(2),\n",
    "    nn.Conv2d( 256, 512, kernel_size = 3, stride = 1, padding = 1),\n",
    "    nn.BatchNorm2d( 512 ),\n",
    "    nn.ReLU(),\n",
    "    #--Aquí acabamos con la parte convolucional--#\n",
    "    \n",
    "    #--Llegamos a la parte lineal--#\n",
    "    \n",
    "    nn.AdaptiveAvgPool2d(1), #Reducir el tamaño a 1x1xn_canales\n",
    "    #Podemos usar diferentes métodos para llegar a 1x1\n",
    "    Flatten(), #Usamos la funcion que habiamos creado pra eliminar las de dim 1\n",
    "    #Los quita para poder usar Linear\n",
    "    nn.Linear( 512, 256), #Completamente conectada\n",
    "    nn.ReLU(),\n",
    "    nn.Linear( 256, birds.c) #salida con el total de clases de los datos\n",
    ")"
   ]
  },
  {
   "cell_type": "code",
   "execution_count": 14,
   "metadata": {},
   "outputs": [],
   "source": [
    "optim = fv.partial(fv.SGD,mom=0.9)"
   ]
  },
  {
   "cell_type": "code",
   "execution_count": 18,
   "metadata": {},
   "outputs": [],
   "source": [
    "learn_birds = fv.Learner( birds, lx97, opt_func=optim, metrics=fv.accuracy)#.to_fp16()"
   ]
  },
  {
   "cell_type": "code",
   "execution_count": 21,
   "metadata": {},
   "outputs": [
    {
     "data": {
      "image/png": "[encoded data removed]",
      "text/plain": [
       "<Figure size 864x288 with 2 Axes>"
      ]
     },
     "metadata": {
      "needs_background": "light"
     },
     "output_type": "display_data"
    }
   ],
   "source": [
    "learn_birds.recorder.plot_sched()"
   ]
  },
  {
   "cell_type": "markdown",
   "metadata": {},
   "source": [
    "Esta figura se puede controlar."
   ]
  },
  {
   "cell_type": "code",
   "execution_count": 22,
   "metadata": {},
   "outputs": [
    {
     "data": {
      "text/html": [
       "<table border=\"1\" class=\"dataframe\">\n",
       "  <thead>\n",
       "    <tr style=\"text-align: left;\">\n",
       "      <th>epoch</th>\n",
       "      <th>train_loss</th>\n",
       "      <th>valid_loss</th>\n",
       "      <th>accuracy</th>\n",
       "      <th>time</th>\n",
       "    </tr>\n",
       "  </thead>\n",
       "  <tbody>\n",
       "    <tr>\n",
       "      <td>0</td>\n",
       "      <td>5.272910</td>\n",
       "      <td>5.268077</td>\n",
       "      <td>0.012254</td>\n",
       "      <td>00:15</td>\n",
       "    </tr>\n",
       "  </tbody>\n",
       "</table>"
      ],
      "text/plain": [
       "<IPython.core.display.HTML object>"
      ]
     },
     "metadata": {},
     "output_type": "display_data"
    }
   ],
   "source": [
    "learn_birds.fit_one_cycle(1, 1e-3, div=2, div_final=10, pct_start=0.8)"
   ]
  },
  {
   "cell_type": "markdown",
   "metadata": {},
   "source": [
    "Ahora siempre usar RANGER"
   ]
  },
  {
   "cell_type": "code",
   "execution_count": 23,
   "metadata": {},
   "outputs": [],
   "source": [
    "learn_birds = fv.Learner( birds, lx97, opt_func=fv.ranger, metrics=fv.accuracy).to_fp16()"
   ]
  },
  {
   "cell_type": "code",
   "execution_count": 24,
   "metadata": {},
   "outputs": [
    {
     "data": {
      "text/html": [
       "<table border=\"1\" class=\"dataframe\">\n",
       "  <thead>\n",
       "    <tr style=\"text-align: left;\">\n",
       "      <th>epoch</th>\n",
       "      <th>train_loss</th>\n",
       "      <th>valid_loss</th>\n",
       "      <th>accuracy</th>\n",
       "      <th>time</th>\n",
       "    </tr>\n",
       "  </thead>\n",
       "  <tbody>\n",
       "    <tr>\n",
       "      <td>0</td>\n",
       "      <td>5.161728</td>\n",
       "      <td>5.053015</td>\n",
       "      <td>0.023473</td>\n",
       "      <td>00:18</td>\n",
       "    </tr>\n",
       "  </tbody>\n",
       "</table>"
      ],
      "text/plain": [
       "<IPython.core.display.HTML object>"
      ]
     },
     "metadata": {},
     "output_type": "display_data"
    }
   ],
   "source": [
    "learn_birds.fit_one_cycle(1,1e-3,div=1.2,final_div=10000, pct_start=0.8)"
   ]
  },
  {
   "cell_type": "code",
   "execution_count": 25,
   "metadata": {},
   "outputs": [
    {
     "data": {
      "image/png": "[encoded data removed]",
      "text/plain": [
       "<Figure size 864x288 with 2 Axes>"
      ]
     },
     "metadata": {
      "needs_background": "light"
     },
     "output_type": "display_data"
    }
   ],
   "source": [
    "learn_birds.recorder.plot_sched()"
   ]
  },
  {
   "cell_type": "markdown",
   "metadata": {},
   "source": [
    "Siempre usar ranger y los controladores del lr"
   ]
  },
  {
   "cell_type": "code",
   "execution_count": null,
   "metadata": {},
   "outputs": [],
   "source": []
  }
 ],
 "metadata": {
  "kernelspec": {
   "display_name": "Python 3",
   "language": "python",
   "name": "python3"
  },
  "language_info": {
   "codemirror_mode": {
    "name": "ipython",
    "version": 3
   },
   "file_extension": ".py",
   "mimetype": "text/x-python",
   "name": "python",
   "nbconvert_exporter": "python",
   "pygments_lexer": "ipython3",
   "version": "3.6.8"
  }
 },
 "nbformat": 4,
 "nbformat_minor": 4
}
