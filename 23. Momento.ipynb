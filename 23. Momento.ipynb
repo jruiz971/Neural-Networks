{
 "cells": [
  {
   "cell_type": "markdown",
   "metadata": {},
   "source": [
    "Comparamos una red neuronal con bajar una montaña. La montaña representa la función de pérdida. La montaña es una montaña de niebla, sólo ve en dónde está parada. Ve dónde es hacia abajo y da un paso por ahí. Eso es decenso por la gradiente"
   ]
  },
  {
   "cell_type": "markdown",
   "metadata": {},
   "source": [
    "Si encontramos una piedra mientras bajamos, no podemos dar la media vuelta y regresar. Debemos seguir caminano por el rumbo en que lo estábamos haciendo (aunque la gradiente indique hacia otrp lado)"
   ]
  },
  {
   "cell_type": "code",
   "execution_count": null,
   "metadata": {},
   "outputs": [],
   "source": [
    "optmi = fv.partial(fv.SDG,mom=0.9)"
   ]
  },
  {
   "cell_type": "code",
   "execution_count": null,
   "metadata": {},
   "outputs": [],
   "source": [
    "learn = fv.Learner(data, model, opt_func=optim, metrics=fv.accuracy)"
   ]
  },
  {
   "cell_type": "code",
   "execution_count": null,
   "metadata": {},
   "outputs": [],
   "source": [
    "learn.fit_one_cycle(1)"
   ]
  }
 ],
 "metadata": {
  "kernelspec": {
   "display_name": "",
   "name": ""
  },
  "language_info": {
   "name": ""
  }
 },
 "nbformat": 4,
 "nbformat_minor": 4
}
