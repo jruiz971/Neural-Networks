{
 "cells": [
  {
   "cell_type": "code",
   "execution_count": 1,
   "metadata": {},
   "outputs": [],
   "source": [
    "import torch\n",
    "import torch.nn as nn\n",
    "import fastai.vision.all as fv"
   ]
  },
  {
   "cell_type": "code",
   "execution_count": 2,
   "metadata": {},
   "outputs": [],
   "source": [
    "def load_data(folder, img_size,batch_size):\n",
    "    tmfs = fv.aug_transforms(flip_vert=False,\n",
    "                            max_rotate=10,\n",
    "                            max_lighting=0.25,\n",
    "                            max_zoom=1.2,\n",
    "                            max_warp=0.2)\n",
    "    data = fv.DataBlock(blocks  = (fv.ImageBlock, fv.CategoryBlock),\n",
    "                        get_items = fv.get_image_files,\n",
    "                        get_y     = fv.parent_label, #Como a partir de la imagen encpontarr la categoria\n",
    "                        splitter  = fv.GrandparentSplitter(), #si el abyelo es train o test\n",
    "                        item_tfms = fv.Resize(img_size),#transformcaiones antes de juntar en batch y despues de juntar en batch)\n",
    "                        batch_tfms = tmfs)\n",
    "    return data.dataloaders(folder, bs=batch_size)#Agarra las imagenes y las regresa en batches\n",
    "\n",
    "birds = load_data(\"/storage/birds\", img_size=128, batch_size=64)"
   ]
  },
  {
   "cell_type": "code",
   "execution_count": 3,
   "metadata": {},
   "outputs": [],
   "source": [
    "##Flatten es una capa que ayuda a pasar de la parte convolucional a la parte lineal\n",
    "\n",
    "#Lo que hace la clase es que le pasamos algo y nos regresa eso mismo pero sin los 1\n",
    "class Flatten(nn.Module):   #Creamos un módulo que hereda de nn.Module\n",
    "    def __init__(self):    #Para crear un objeto\n",
    "        super().__init__() #Le decimos a nn.Module que se inicie\n",
    "    \n",
    "    def forward( self, x ): #\n",
    "        #return x.squeeze()\n",
    "        return x.reshape (x.shape[0],-1) #Toma la primera y adivina el resto\n",
    "        #Se agrega esta porque si el batch es de tam 1, squezze lo elimina\n",
    "        "
   ]
  },
  {
   "cell_type": "code",
   "execution_count": 4,
   "metadata": {},
   "outputs": [],
   "source": [
    "lx97  = nn.Sequential( #Sequential para cosas sencillas\n",
    "    nn.BatchNorm2d( 3 ), #Ideal comenzar normalizando \n",
    "    #Convolucion de entrada 3, de 32 filtros, de tamaño 3x3, \n",
    "    #sride -> ¿cuánto brinca?, padding -> pone el brde negro para no perder pixeles\n",
    "    nn.Conv2d( 3, 32, kernel_size = 3, stride = 2, padding = 1),\n",
    "    \n",
    "    #Acivacion\n",
    "    nn.ReLU(),\n",
    "    ##ResBlock( crear_residual( 16 ) ),\n",
    "    #Reducir el tamaño de a  imagen (será más rápido)\n",
    "    #Cada cuadro de 2x2 agarra el más grande.\n",
    "    #Reduce a la mitad\n",
    "    #nn.MaxPool2d(2),\n",
    "    #nn.Conv2d( 16, 32, kernel_size=2 ),\n",
    "    #nn.ReLU(),\n",
    "    nn.BatchNorm2d( 32 ),\n",
    "    nn.Conv2d( 32, 32, kernel_size=2, stride = 1, padding = 1 ),\n",
    "    nn.ReLU(),\n",
    "    nn.BatchNorm2d( 32 ),\n",
    "    \n",
    "    #Empezamos en la cantidad de filtros con los que acabamos en Conv2d anterior\n",
    "    nn.Conv2d( 32, 64, kernel_size = 2, stride = 1, padding = 1),\n",
    "    \n",
    "    nn.ReLU(),\n",
    "    nn.MaxPool2d(2),\n",
    "    nn.Conv2d( 64, 128, kernel_size = 3, stride = 1, padding = 1),\n",
    "    nn.ReLU(),\n",
    "    nn.BatchNorm2d( 128 ),\n",
    "    nn.MaxPool2d(2),\n",
    "    nn.Conv2d( 128, 256, kernel_size = 3, stride = 1, padding = 1),\n",
    "    nn.BatchNorm2d( 256 ),\n",
    "    nn.ReLU(),\n",
    "    nn.Conv2d( 256, 256, kernel_size = 3, stride = 1, padding = 1),\n",
    "    nn.BatchNorm2d( 256 ),\n",
    "    nn.ReLU(),\n",
    "    nn.MaxPool2d(2),\n",
    "    nn.Conv2d( 256, 512, kernel_size = 3, stride = 1, padding = 1),\n",
    "    nn.BatchNorm2d( 512 ),\n",
    "    nn.ReLU(),\n",
    "    #--Aquí acabamos con la parte convolucional--#\n",
    "    \n",
    "    #--Llegamos a la parte lineal--#\n",
    "    \n",
    "    nn.AdaptiveAvgPool2d(1), #Reducir el tamaño a 1x1xn_canales\n",
    "    #Podemos usar diferentes métodos para llegar a 1x1\n",
    "    Flatten(), #Usamos la funcion que habiamos creado pra eliminar las de dim 1\n",
    "    #Los quita para poder usar Linear\n",
    "    nn.Linear( 512, 256), #Completamente conectada\n",
    "    nn.ReLU(),\n",
    "    nn.Linear( 256, birds.c) #salida con el total de clases de los datos\n",
    ")"
   ]
  },
  {
   "cell_type": "code",
   "execution_count": 5,
   "metadata": {},
   "outputs": [],
   "source": [
    "learn_birds = fv.Learner( birds, lx97, opt_func=fv.ranger, metrics=fv.accuracy).to_fp16()"
   ]
  },
  {
   "cell_type": "code",
   "execution_count": null,
   "metadata": {},
   "outputs": [],
   "source": [
    "learn_birds.fit_one_cycle(4, lr_max=slice(1e-6,1e-4))"
   ]
  },
  {
   "cell_type": "markdown",
   "metadata": {},
   "source": [
    "Modifica más las últimas capas en comparación con las primeras (que ya están pre-entrenadas) para no arruinar nuestro modelo."
   ]
  },
  {
   "cell_type": "markdown",
   "metadata": {},
   "source": [
    "Cada modelo está partido. Lo que hace es dividir el rango entre los pedazos y entrenar cada uno de ellos con un lr diferente"
   ]
  },
  {
   "cell_type": "markdown",
   "metadata": {},
   "source": [
    "Si proponemos nuestros modelos, debemos decir cómo partirlo (para entrenar con slices)"
   ]
  },
  {
   "cell_type": "markdown",
   "metadata": {},
   "source": [
    "### ¿Cómo partir nuestro modelo?"
   ]
  },
  {
   "cell_type": "markdown",
   "metadata": {},
   "source": [
    "Al crear el Learner le debemos indocar el parámetro splitter, que regresa los pedazos del modelo"
   ]
  },
  {
   "cell_type": "code",
   "execution_count": 7,
   "metadata": {},
   "outputs": [
    {
     "data": {
      "text/plain": [
       "Sequential(\n",
       "  (0): BatchNorm2d(3, eps=1e-05, momentum=0.1, affine=True, track_running_stats=True)\n",
       "  (1): Conv2d(3, 32, kernel_size=(3, 3), stride=(2, 2), padding=(1, 1))\n",
       "  (2): ReLU()\n",
       "  (3): BatchNorm2d(32, eps=1e-05, momentum=0.1, affine=True, track_running_stats=True)\n",
       "  (4): Conv2d(32, 32, kernel_size=(2, 2), stride=(1, 1), padding=(1, 1))\n",
       "  (5): ReLU()\n",
       "  (6): BatchNorm2d(32, eps=1e-05, momentum=0.1, affine=True, track_running_stats=True)\n",
       "  (7): Conv2d(32, 64, kernel_size=(2, 2), stride=(1, 1), padding=(1, 1))\n",
       "  (8): ReLU()\n",
       "  (9): MaxPool2d(kernel_size=2, stride=2, padding=0, dilation=1, ceil_mode=False)\n",
       "  (10): Conv2d(64, 128, kernel_size=(3, 3), stride=(1, 1), padding=(1, 1))\n",
       "  (11): ReLU()\n",
       "  (12): BatchNorm2d(128, eps=1e-05, momentum=0.1, affine=True, track_running_stats=True)\n",
       "  (13): MaxPool2d(kernel_size=2, stride=2, padding=0, dilation=1, ceil_mode=False)\n",
       "  (14): Conv2d(128, 256, kernel_size=(3, 3), stride=(1, 1), padding=(1, 1))\n",
       "  (15): BatchNorm2d(256, eps=1e-05, momentum=0.1, affine=True, track_running_stats=True)\n",
       "  (16): ReLU()\n",
       "  (17): Conv2d(256, 256, kernel_size=(3, 3), stride=(1, 1), padding=(1, 1))\n",
       "  (18): BatchNorm2d(256, eps=1e-05, momentum=0.1, affine=True, track_running_stats=True)\n",
       "  (19): ReLU()\n",
       "  (20): MaxPool2d(kernel_size=2, stride=2, padding=0, dilation=1, ceil_mode=False)\n",
       "  (21): Conv2d(256, 512, kernel_size=(3, 3), stride=(1, 1), padding=(1, 1))\n",
       "  (22): BatchNorm2d(512, eps=1e-05, momentum=0.1, affine=True, track_running_stats=True)\n",
       "  (23): ReLU()\n",
       "  (24): AdaptiveAvgPool2d(output_size=1)\n",
       "  (25): Flatten()\n",
       "  (26): Linear(in_features=512, out_features=256, bias=True)\n",
       "  (27): ReLU()\n",
       "  (28): Linear(in_features=256, out_features=200, bias=True)\n",
       ")"
      ]
     },
     "execution_count": 7,
     "metadata": {},
     "output_type": "execute_result"
    }
   ],
   "source": [
    "lx97"
   ]
  },
  {
   "cell_type": "code",
   "execution_count": 10,
   "metadata": {},
   "outputs": [],
   "source": [
    "def my_own_splitter(model): #Tú eliges cómo dividirlos. La última parte (lineal), debe tener su propio grupo\n",
    "    return [list(group.parameters()) for group in [model[0:2],model[2:8],model[8:10],model[10:15],model[15:25],model[25:]]]"
   ]
  },
  {
   "cell_type": "code",
   "execution_count": 12,
   "metadata": {},
   "outputs": [],
   "source": [
    "learn = fv.Learner(birds, lx97,\n",
    "                  opt_func=fv.ranger, metrics=fv.accuracy,\n",
    "                  splitter=my_own_splitter)"
   ]
  },
  {
   "cell_type": "code",
   "execution_count": 14,
   "metadata": {},
   "outputs": [],
   "source": [
    "learn.freeze_to(-1) #Congela todo excepto laúltima"
   ]
  },
  {
   "cell_type": "code",
   "execution_count": 15,
   "metadata": {},
   "outputs": [
    {
     "data": {
      "text/html": [
       "<table border=\"1\" class=\"dataframe\">\n",
       "  <thead>\n",
       "    <tr style=\"text-align: left;\">\n",
       "      <th>epoch</th>\n",
       "      <th>train_loss</th>\n",
       "      <th>valid_loss</th>\n",
       "      <th>accuracy</th>\n",
       "      <th>time</th>\n",
       "    </tr>\n",
       "  </thead>\n",
       "  <tbody>\n",
       "    <tr>\n",
       "      <td>0</td>\n",
       "      <td>None</td>\n",
       "      <td>None</td>\n",
       "      <td>00:00</td>\n",
       "    </tr>\n",
       "  </tbody>\n",
       "</table>"
      ],
      "text/plain": [
       "<IPython.core.display.HTML object>"
      ]
     },
     "metadata": {},
     "output_type": "display_data"
    },
    {
     "data": {
      "text/plain": [
       "Sequential (Input shape: ['64 x 3 x 128 x 128'])\n",
       "================================================================\n",
       "Layer (type)         Output Shape         Param #    Trainable \n",
       "================================================================\n",
       "BatchNorm2d          64 x 3 x 128 x 128   6          True      \n",
       "________________________________________________________________\n",
       "Conv2d               64 x 32 x 64 x 64    896        False     \n",
       "________________________________________________________________\n",
       "ReLU                 64 x 32 x 64 x 64    0          False     \n",
       "________________________________________________________________\n",
       "BatchNorm2d          64 x 32 x 64 x 64    64         True      \n",
       "________________________________________________________________\n",
       "Conv2d               64 x 32 x 65 x 65    4,128      False     \n",
       "________________________________________________________________\n",
       "ReLU                 64 x 32 x 65 x 65    0          False     \n",
       "________________________________________________________________\n",
       "BatchNorm2d          64 x 32 x 65 x 65    64         True      \n",
       "________________________________________________________________\n",
       "Conv2d               64 x 64 x 66 x 66    8,256      False     \n",
       "________________________________________________________________\n",
       "ReLU                 64 x 64 x 66 x 66    0          False     \n",
       "________________________________________________________________\n",
       "MaxPool2d            64 x 64 x 33 x 33    0          False     \n",
       "________________________________________________________________\n",
       "Conv2d               64 x 128 x 33 x 33   73,856     False     \n",
       "________________________________________________________________\n",
       "ReLU                 64 x 128 x 33 x 33   0          False     \n",
       "________________________________________________________________\n",
       "BatchNorm2d          64 x 128 x 33 x 33   256        True      \n",
       "________________________________________________________________\n",
       "MaxPool2d            64 x 128 x 16 x 16   0          False     \n",
       "________________________________________________________________\n",
       "Conv2d               64 x 256 x 16 x 16   295,168    False     \n",
       "________________________________________________________________\n",
       "BatchNorm2d          64 x 256 x 16 x 16   512        True      \n",
       "________________________________________________________________\n",
       "ReLU                 64 x 256 x 16 x 16   0          False     \n",
       "________________________________________________________________\n",
       "Conv2d               64 x 256 x 16 x 16   590,080    False     \n",
       "________________________________________________________________\n",
       "BatchNorm2d          64 x 256 x 16 x 16   512        True      \n",
       "________________________________________________________________\n",
       "ReLU                 64 x 256 x 16 x 16   0          False     \n",
       "________________________________________________________________\n",
       "MaxPool2d            64 x 256 x 8 x 8     0          False     \n",
       "________________________________________________________________\n",
       "Conv2d               64 x 512 x 8 x 8     1,180,160  False     \n",
       "________________________________________________________________\n",
       "BatchNorm2d          64 x 512 x 8 x 8     1,024      True      \n",
       "________________________________________________________________\n",
       "ReLU                 64 x 512 x 8 x 8     0          False     \n",
       "________________________________________________________________\n",
       "AdaptiveAvgPool2d    64 x 512 x 1 x 1     0          False     \n",
       "________________________________________________________________\n",
       "Flatten              64 x 512             0          False     \n",
       "________________________________________________________________\n",
       "Linear               64 x 256             131,328    True      \n",
       "________________________________________________________________\n",
       "ReLU                 64 x 256             0          False     \n",
       "________________________________________________________________\n",
       "Linear               64 x 200             51,400     True      \n",
       "________________________________________________________________\n",
       "\n",
       "Total params: 2,337,710\n",
       "Total trainable params: 185,166\n",
       "Total non-trainable params: 2,152,544\n",
       "\n",
       "Optimizer used: <function ranger at 0x7f9b0bedb400>\n",
       "Loss function: FlattenedLoss of CrossEntropyLoss()\n",
       "\n",
       "Model frozen up to parameter group #5\n",
       "\n",
       "Callbacks:\n",
       "  - TrainEvalCallback\n",
       "  - Recorder\n",
       "  - ProgressCallback"
      ]
     },
     "execution_count": 15,
     "metadata": {},
     "output_type": "execute_result"
    }
   ],
   "source": [
    "learn.summary()"
   ]
  },
  {
   "cell_type": "markdown",
   "metadata": {},
   "source": [
    "Ahora vamos a entrenar el modelo a pedazos."
   ]
  },
  {
   "cell_type": "markdown",
   "metadata": {},
   "source": [
    "(Con las primeras capas congeladas)"
   ]
  },
  {
   "cell_type": "code",
   "execution_count": 16,
   "metadata": {},
   "outputs": [
    {
     "data": {
      "text/html": [
       "<table border=\"1\" class=\"dataframe\">\n",
       "  <thead>\n",
       "    <tr style=\"text-align: left;\">\n",
       "      <th>epoch</th>\n",
       "      <th>train_loss</th>\n",
       "      <th>valid_loss</th>\n",
       "      <th>accuracy</th>\n",
       "      <th>time</th>\n",
       "    </tr>\n",
       "  </thead>\n",
       "  <tbody>\n",
       "    <tr>\n",
       "      <td>0</td>\n",
       "      <td>5.302774</td>\n",
       "      <td>5.290855</td>\n",
       "      <td>0.005523</td>\n",
       "      <td>00:14</td>\n",
       "    </tr>\n",
       "  </tbody>\n",
       "</table>"
      ],
      "text/plain": [
       "<IPython.core.display.HTML object>"
      ]
     },
     "metadata": {},
     "output_type": "display_data"
    }
   ],
   "source": [
    "learn.fit_one_cycle(1,slice(1e-6, 1e-3))"
   ]
  }
 ],
 "metadata": {
  "kernelspec": {
   "display_name": "Python 3",
   "language": "python",
   "name": "python3"
  },
  "language_info": {
   "codemirror_mode": {
    "name": "ipython",
    "version": 3
   },
   "file_extension": ".py",
   "mimetype": "text/x-python",
   "name": "python",
   "nbconvert_exporter": "python",
   "pygments_lexer": "ipython3",
   "version": "3.6.8"
  }
 },
 "nbformat": 4,
 "nbformat_minor": 4
}
