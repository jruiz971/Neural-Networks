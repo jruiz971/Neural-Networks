{
 "cells": [
  {
   "cell_type": "markdown",
   "metadata": {},
   "source": [
    "# ResBlock"
   ]
  },
  {
   "cell_type": "markdown",
   "metadata": {},
   "source": [
    "A las redes les cuesta muchísimo parender funciones sencillas (como la identidad)\n",
    "\n",
    "Entonces se les ocurrió que cada capa en lugar de calcular un valor, calcule un \"error\" o \"residuo\"\n",
    "\n",
    "En vez de calcualr cuánto debe valer la salida, que calcule cuánto hay que sumarle a la entrada para que sea una buena salida"
   ]
  },
  {
   "cell_type": "code",
   "execution_count": 1,
   "metadata": {},
   "outputs": [],
   "source": [
    "import torch.nn as nn"
   ]
  },
  {
   "cell_type": "code",
   "execution_count": 2,
   "metadata": {},
   "outputs": [],
   "source": [
    "class ResBlock(nn.Module):\n",
    "    def __init__( self, residual ): #residual -> f\n",
    "        super().__init__()\n",
    "        self.residual =  residual\n",
    "        \n",
    "    def forward (self, x):\n",
    "        return x + self.residual(x) #Del mismo tamaño"
   ]
  },
  {
   "cell_type": "markdown",
   "metadata": {},
   "source": [
    "¿Cómo lo usamos?\n",
    "\n",
    "Hay varias maneras. Experimentar es lo mejor"
   ]
  },
  {
   "cell_type": "code",
   "execution_count": 12,
   "metadata": {},
   "outputs": [],
   "source": [
    "def crear_residual (filters): #Num filtros de x\n",
    "    bottleneck = (filters+1)//2\n",
    "    \n",
    "    residual = nn.Sequential(\n",
    "        #\"Comprimimos la info\"\n",
    "        nn.Conv2d (filters, bottleneck, kernel_size=1),\n",
    "        nn.ReLU(),\n",
    "        nn.BatchNorm2d(bottleneck),\n",
    "        #\"Conv sobre los datos comprimidos\"\n",
    "        nn.Conv2d (bottleneck, bottleneck, kernel_size=3, padding=1),\n",
    "        nn.ReLU(),\n",
    "        nn.BatchNorm2d (bottleneck),\n",
    "        #\"Descomprimimos los datos\"\n",
    "        nn.Conv2d (bottleneck, filters, kernel_size=1),\n",
    "        nn.ReLU(),\n",
    "        #Es importante SIEMPRE acabar en BatchNorm\n",
    "        nn.BatchNorm2d(filters)\n",
    "    )\n",
    "    nn.init.constant_(residual[-1].weight,0) #Incialiar el último módulo de residual como 0\n",
    "    return residual"
   ]
  },
  {
   "cell_type": "markdown",
   "metadata": {},
   "source": [
    "Además este último BatchNorm deberá estar inicializado con 0's (y no con 1's) para $\\gamma$, como para que empiece siendo la identidad. "
   ]
  },
  {
   "cell_type": "code",
   "execution_count": 13,
   "metadata": {},
   "outputs": [
    {
     "data": {
      "text/plain": [
       "ResBlock(\n",
       "  (residual): Sequential(\n",
       "    (0): Conv2d(16, 8, kernel_size=(1, 1), stride=(1, 1))\n",
       "    (1): ReLU()\n",
       "    (2): BatchNorm2d(8, eps=1e-05, momentum=0.1, affine=True, track_running_stats=True)\n",
       "    (3): Conv2d(8, 8, kernel_size=(3, 3), stride=(1, 1), padding=(1, 1))\n",
       "    (4): ReLU()\n",
       "    (5): BatchNorm2d(8, eps=1e-05, momentum=0.1, affine=True, track_running_stats=True)\n",
       "    (6): Conv2d(8, 16, kernel_size=(1, 1), stride=(1, 1))\n",
       "    (7): ReLU()\n",
       "    (8): BatchNorm2d(16, eps=1e-05, momentum=0.1, affine=True, track_running_stats=True)\n",
       "  )\n",
       ")"
      ]
     },
     "execution_count": 13,
     "metadata": {},
     "output_type": "execute_result"
    }
   ],
   "source": [
    "ResBlock (crear_residual (16) )"
   ]
  },
  {
   "cell_type": "markdown",
   "metadata": {},
   "source": [
    "¡Ya tenemos los ingredientes para un resnet18, resnet38!"
   ]
  },
  {
   "cell_type": "code",
   "execution_count": null,
   "metadata": {},
   "outputs": [],
   "source": []
  }
 ],
 "metadata": {
  "kernelspec": {
   "display_name": "Python 3",
   "language": "python",
   "name": "python3"
  },
  "language_info": {
   "codemirror_mode": {
    "name": "ipython",
    "version": 3
   },
   "file_extension": ".py",
   "mimetype": "text/x-python",
   "name": "python",
   "nbconvert_exporter": "python",
   "pygments_lexer": "ipython3",
   "version": "3.6.8"
  }
 },
 "nbformat": 4,
 "nbformat_minor": 4
}
